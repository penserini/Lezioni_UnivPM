{
 "cells": [
  {
   "cell_type": "markdown",
   "id": "30623397",
   "metadata": {},
   "source": [
    "### Ciclo WHILE\n",
    "Questo è un ciclo **WHILE**, utilizzando la *condizione di uscita*:\n",
    "- n = n + 1"
   ]
  },
  {
   "cell_type": "code",
   "execution_count": 1,
   "id": "5f0409e0",
   "metadata": {
    "slideshow": {
     "slide_type": "slide"
    }
   },
   "outputs": [
    {
     "ename": "NameError",
     "evalue": "name 'n' is not defined",
     "output_type": "error",
     "traceback": [
      "\u001b[1;31m---------------------------------------------------------------------------\u001b[0m",
      "\u001b[1;31mNameError\u001b[0m                                 Traceback (most recent call last)",
      "Cell \u001b[1;32mIn[1], line 2\u001b[0m\n\u001b[0;32m      1\u001b[0m \u001b[38;5;66;03m#n = 1\u001b[39;00m\n\u001b[1;32m----> 2\u001b[0m \u001b[38;5;28;01mwhile\u001b[39;00m \u001b[43mn\u001b[49m \u001b[38;5;241m<\u001b[39m\u001b[38;5;241m=\u001b[39m \u001b[38;5;241m100\u001b[39m:\n\u001b[0;32m      3\u001b[0m     \u001b[38;5;28mprint\u001b[39m(n)\n\u001b[0;32m      4\u001b[0m     n \u001b[38;5;241m=\u001b[39m n \u001b[38;5;241m+\u001b[39m \u001b[38;5;241m1\u001b[39m\n",
      "\u001b[1;31mNameError\u001b[0m: name 'n' is not defined"
     ]
    }
   ],
   "source": [
    "#n = 1\n",
    "while n <= 100:\n",
    "    print(n)\n",
    "    n = n + 1"
   ]
  },
  {
   "cell_type": "markdown",
   "id": "bbb67791",
   "metadata": {},
   "source": [
    "Ciclo **DO-WHILE** che in Python non esiste e va costruito con il WHILE"
   ]
  },
  {
   "cell_type": "code",
   "execution_count": 4,
   "id": "460680a2",
   "metadata": {},
   "outputs": [],
   "source": [
    "while True:\n",
    "    age = int(input(\"Enter a valid age: \"))\n",
    "    if age >= 1 and age <= 100:\n",
    "        break    "
   ]
  },
  {
   "cell_type": "code",
   "execution_count": null,
   "id": "82ee70aa",
   "metadata": {},
   "outputs": [],
   "source": [
    "somma = 0\n",
    "while True:\n",
    "    dato = input(\"Inserisci un dato oppure invio per terminare: \")\n",
    "    if dato == \"\":\n",
    "        break\n",
    "    num = float(dato)\n",
    "    somma += num\n",
    "\n",
    "print(somma)   "
   ]
  },
  {
   "cell_type": "markdown",
   "id": "4b845633",
   "metadata": {},
   "source": [
    "Ciclo **FOR**"
   ]
  },
  {
   "cell_type": "code",
   "execution_count": null,
   "id": "9c9549ca",
   "metadata": {},
   "outputs": [],
   "source": [
    "for n in range(101):\n",
    "    print(n)"
   ]
  },
  {
   "cell_type": "markdown",
   "id": "b88b0120",
   "metadata": {},
   "source": [
    "Esempio di flessibilità dovuta al **linguaggio non tipizzato**, ma con facilità di sbagliare.\n",
    "Provate a cambiare il valore della variabile a:\n",
    "- a = -2 e poi \n",
    "- a = 4\n",
    "\n",
    "(riavviate il kernel, per ripristinare la memoria dopo che la var 'c' è stata creata)"
   ]
  },
  {
   "cell_type": "code",
   "execution_count": 1,
   "id": "31655a3c",
   "metadata": {
    "slideshow": {
     "slide_type": "subslide"
    }
   },
   "outputs": [
    {
     "ename": "NameError",
     "evalue": "name 'c' is not defined",
     "output_type": "error",
     "traceback": [
      "\u001b[1;31m---------------------------------------------------------------------------\u001b[0m",
      "\u001b[1;31mNameError\u001b[0m                                 Traceback (most recent call last)",
      "Cell \u001b[1;32mIn[1], line 8\u001b[0m\n\u001b[0;32m      5\u001b[0m     a \u001b[38;5;241m=\u001b[39m a \u001b[38;5;241m+\u001b[39m c\n\u001b[0;32m      6\u001b[0m     var \u001b[38;5;241m=\u001b[39m \u001b[38;5;28mprint\u001b[39m(\u001b[38;5;124m\"\u001b[39m\u001b[38;5;124mDENTRO IF: a + c = \u001b[39m\u001b[38;5;124m\"\u001b[39m, a)\n\u001b[1;32m----> 8\u001b[0m a \u001b[38;5;241m=\u001b[39m \u001b[43mc\u001b[49m \u001b[38;5;241m+\u001b[39m \u001b[38;5;241m3\u001b[39m\n\u001b[0;32m      9\u001b[0m \u001b[38;5;28mprint\u001b[39m(\u001b[38;5;124m\"\u001b[39m\u001b[38;5;124mFUORI IF: a + c = \u001b[39m\u001b[38;5;124m\"\u001b[39m, a)\n",
      "\u001b[1;31mNameError\u001b[0m: name 'c' is not defined"
     ]
    }
   ],
   "source": [
    "a = -2; b = 7\n",
    "a = a + b\n",
    "if a > b:\n",
    "    c = 1\n",
    "    a = a + c\n",
    "    var = print(\"DENTRO IF: a + c = \", a)\n",
    "\n",
    "a = c + 3\n",
    "print(\"FUORI IF: a + c = \", a)"
   ]
  }
 ],
 "metadata": {
  "kernelspec": {
   "display_name": ".venv",
   "language": "python",
   "name": "python3"
  },
  "language_info": {
   "codemirror_mode": {
    "name": "ipython",
    "version": 3
   },
   "file_extension": ".py",
   "mimetype": "text/x-python",
   "name": "python",
   "nbconvert_exporter": "python",
   "pygments_lexer": "ipython3",
   "version": "3.10.8"
  }
 },
 "nbformat": 4,
 "nbformat_minor": 5
}
